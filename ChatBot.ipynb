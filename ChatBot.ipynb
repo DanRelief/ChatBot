{
  "nbformat": 4,
  "nbformat_minor": 0,
  "metadata": {
    "colab": {
      "provenance": [],
      "authorship_tag": "ABX9TyPxXP79lRN/2/rLduyDrb/9",
      "include_colab_link": true
    },
    "kernelspec": {
      "name": "python3",
      "display_name": "Python 3"
    },
    "language_info": {
      "name": "python"
    }
  },
  "cells": [
    {
      "cell_type": "markdown",
      "metadata": {
        "id": "view-in-github",
        "colab_type": "text"
      },
      "source": [
        "<a href=\"https://colab.research.google.com/github/DanRelief/ChatBot/blob/main/ChatBot.ipynb\" target=\"_parent\"><img src=\"https://colab.research.google.com/assets/colab-badge.svg\" alt=\"Open In Colab\"/></a>"
      ]
    },
    {
      "cell_type": "markdown",
      "source": [
        "Instalando SDK do Google"
      ],
      "metadata": {
        "id": "blNEhXucCHJP"
      }
    },
    {
      "cell_type": "code",
      "execution_count": 2,
      "metadata": {
        "id": "6yMVC9Yn7h4u"
      },
      "outputs": [],
      "source": [
        "!pip install -q -U google-generativeai"
      ]
    },
    {
      "cell_type": "code",
      "source": [
        "import google.generativeai as genai\n",
        "from google.colab import userdata\n",
        "api_key = userdata.get('SECRET_KEY')\n",
        "genai.configure(api_key=api_key)"
      ],
      "metadata": {
        "id": "waQcKcDa--fM"
      },
      "execution_count": 23,
      "outputs": []
    },
    {
      "cell_type": "code",
      "source": [
        "for m in genai.list_models():\n",
        "  if 'generateContent' in m.supported_generation_methods:\n",
        "    print(m.name)"
      ],
      "metadata": {
        "colab": {
          "base_uri": "https://localhost:8080/",
          "height": 139
        },
        "id": "TEjzVxFGCST8",
        "outputId": "b1ad791c-4282-4dba-e169-8348b716a481"
      },
      "execution_count": 5,
      "outputs": [
        {
          "output_type": "stream",
          "name": "stdout",
          "text": [
            "models/gemini-1.0-pro\n",
            "models/gemini-1.0-pro-001\n",
            "models/gemini-1.0-pro-latest\n",
            "models/gemini-1.0-pro-vision-latest\n",
            "models/gemini-1.5-pro-latest\n",
            "models/gemini-pro\n",
            "models/gemini-pro-vision\n"
          ]
        }
      ]
    },
    {
      "cell_type": "code",
      "source": [
        "generation_config = {\n",
        "    \"candidate_count\": 1,\n",
        "    \"temperature\": 0.5,\n",
        "}"
      ],
      "metadata": {
        "id": "LufV26DREKAI"
      },
      "execution_count": 14,
      "outputs": []
    },
    {
      "cell_type": "code",
      "source": [
        "safety_settings = {\n",
        "    \"HARASSMENT\": \"BLOCK_NONE\",\n",
        "    \"HATE\": \"BLOCK_NONE\",\n",
        "    \"SEXUAL\": \"BLOCK_NONE\",\n",
        "    \"DANGEROUS\": \"BLOCK_NONE\",\n",
        "}"
      ],
      "metadata": {
        "id": "y6pE4f_2Elk8"
      },
      "execution_count": 8,
      "outputs": []
    },
    {
      "cell_type": "markdown",
      "source": [
        "inicializando modelo"
      ],
      "metadata": {
        "id": "VdmfotXZFUyY"
      }
    },
    {
      "cell_type": "code",
      "source": [
        "model = genai.GenerativeModel(model_name=\"gemini-1.0-pro\",\n",
        "                            generation_config=generation_config,\n",
        "                            safety_settings=safety_settings)"
      ],
      "metadata": {
        "id": "x-lE20WaFcV4"
      },
      "execution_count": 15,
      "outputs": []
    },
    {
      "cell_type": "code",
      "source": [
        "response = model.generate_content(\"Dê sugestões sobre conteúdo de IA\")\n",
        "print(response.text)"
      ],
      "metadata": {
        "colab": {
          "base_uri": "https://localhost:8080/",
          "height": 694
        },
        "collapsed": true,
        "id": "zn-ATqfoHwkE",
        "outputId": "bdbb24b8-2867-4c6f-f275-743f0b31fb8a"
      },
      "execution_count": 16,
      "outputs": [
        {
          "output_type": "stream",
          "name": "stdout",
          "text": [
            "**Conteúdo de IA para Indústrias Específicas**\n",
            "\n",
            "* **Saúde:** Diagnósticos aprimorados, tratamento personalizado, descoberta de medicamentos\n",
            "* **Finanças:** Análise de risco, detecção de fraudes, gerenciamento de investimentos\n",
            "* **Manufatura:** Otimização de processos, previsão de demanda, controle de qualidade\n",
            "* **Transporte:** Otimização de rotas, manutenção preditiva, veículos autônomos\n",
            "* **Varejo:** Recomendações personalizadas, previsão de demanda, otimização de preços\n",
            "\n",
            "**Conteúdo de IA para Aplicativos de Negócios**\n",
            "\n",
            "* **Assistentes virtuais:** Automação de tarefas, suporte ao cliente, agendamento\n",
            "* **Chatbots:** Atendimento ao cliente 24 horas por dia, 7 dias por semana, resolução de problemas\n",
            "* **Análise de dados:** Insights acionáveis, tomada de decisão aprimorada, previsão\n",
            "* **Geração de conteúdo:** Criação de texto, imagens e vídeos personalizados\n",
            "* **Reconhecimento de imagem:** Detecção de objetos, classificação de imagens, análise de vídeo\n",
            "\n",
            "**Conteúdo de IA para Pesquisa e Desenvolvimento**\n",
            "\n",
            "* **Aprendizado de máquina:** Algoritmos avançados, modelos preditivos, otimização\n",
            "* **Processamento de linguagem natural:** Compreensão da linguagem humana, tradução de idiomas\n",
            "* **Visão computacional:** Reconhecimento de objetos, análise de imagem, detecção de padrões\n",
            "* **Inteligência artificial geral:** Sistemas que imitam a inteligência humana\n",
            "* **Ética da IA:** Considerações éticas, impacto social, regulamentações\n",
            "\n",
            "**Conteúdo de IA para Educação e Treinamento**\n",
            "\n",
            "* **Cursos online:** Aprendizado personalizado, acesso a especialistas\n",
            "* **Simuladores:** Treinamento prático em ambientes seguros\n",
            "* **Tutoriais interativos:** Aulas personalizadas, feedback em tempo real\n",
            "* **Avaliações adaptativas:** Avaliações personalizadas, feedback específico\n",
            "* **Aprendizado baseado em IA:** Sistemas que se adaptam às necessidades individuais dos alunos\n",
            "\n",
            "**Conteúdo de IA para Entretenimento e Mídia**\n",
            "\n",
            "* **Jogos:** Experiências imersivas, geração de conteúdo procedural\n",
            "* **Filmes e TV:** Efeitos especiais aprimorados, narrativa personalizada\n",
            "* **Música:** Composição gerada por IA, recomendações personalizadas\n",
            "* **Arte e design:** Criação de obras de arte únicas, geração de ideias\n",
            "* **Mídias sociais:** Recomendações de conteúdo personalizadas, análise de sentimento\n"
          ]
        }
      ]
    },
    {
      "cell_type": "code",
      "source": [
        "chat = model.start_chat(history=[])"
      ],
      "metadata": {
        "id": "7lBd_XJdH_7G"
      },
      "execution_count": 17,
      "outputs": []
    },
    {
      "cell_type": "code",
      "source": [
        "prompt = input(\"Escreva um Prompt: \")\n",
        "\n",
        "while prompt != \"fim\":\n",
        "  response=chat.send_message(prompt)\n",
        "  print(\"Resposta: \", response.text, \"\\n\")\n",
        "  prompt = input(\"Escreva um Prompt: \")"
      ],
      "metadata": {
        "colab": {
          "base_uri": "https://localhost:8080/"
        },
        "id": "9KNYFSEEIUOJ",
        "outputId": "4ad922e6-2d4f-4a6c-a938-0f3455a7dee6"
      },
      "execution_count": 21,
      "outputs": [
        {
          "name": "stdout",
          "output_type": "stream",
          "text": [
            "Escreva um Prompt: fim\n"
          ]
        }
      ]
    },
    {
      "cell_type": "code",
      "source": [
        "#Melhorando a visualização\n",
        "#Código disponível em https://ai.google.dev/tutorials/python_quickstart#import_packages\n",
        "\n",
        "import textwrap\n",
        "from IPython.display import display\n",
        "from IPython.display import Markdown\n",
        "\n",
        "def to_markdown(text):\n",
        "    text = text.replace('-', '* ')\n",
        "    return Markdown(textwrap.indent(text, '> ', predicate=lambda _: True))\n",
        "\n",
        "#Imprimindo o histórico\n",
        "for message in chat.history:\n",
        "    display(to_markdown(f'**{message.role}**: {message.parts[0].text}'))\n",
        "    print()"
      ],
      "metadata": {
        "id": "oOsOzCtzLdgC"
      },
      "execution_count": null,
      "outputs": []
    }
  ]
}